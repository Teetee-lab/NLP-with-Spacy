{
 "cells": [
  {
   "cell_type": "code",
   "execution_count": 36,
   "id": "fc9e03e4",
   "metadata": {},
   "outputs": [],
   "source": [
    "#import spacy liabrary\n",
    "import spacy\n",
    "nlp = spacy.load(\"en_core_web_sm\") #load the spacy small core web"
   ]
  },
  {
   "cell_type": "code",
   "execution_count": 37,
   "id": "c290a30d",
   "metadata": {},
   "outputs": [
    {
     "name": "stdout",
     "output_type": "stream",
     "text": [
      "Britain GPE\n"
     ]
    }
   ],
   "source": [
    "#create a sample text\n",
    "doc = nlp(\"Britain is a place. Mary is a doctor.\")\n",
    "for ent in doc.ents: #loop through the text\n",
    "    print(ent.text,ent.label_)#print the entity"
   ]
  },
  {
   "cell_type": "code",
   "execution_count": 38,
   "id": "3d30a4d3",
   "metadata": {},
   "outputs": [],
   "source": [
    "from spacy.language import Language #import language from spacy liabrary"
   ]
  },
  {
   "cell_type": "code",
   "execution_count": 39,
   "id": "6b60f237",
   "metadata": {},
   "outputs": [],
   "source": [
    "#custom component it has to be in the script for the componets to work\n",
    "@Language.component(\"remove_gpe\")#instantiate the language class\n",
    "def remove_gpe(doc): #create a function for the custom components\n",
    "    original_ents = list(doc.ents)\n",
    "    for ent in doc.ents:\n",
    "        if ent.label_ ==\"GPE\":\n",
    "            original_ents.remove(ent)\n",
    "    doc.ents =original_ents\n",
    "    return(doc)            "
   ]
  },
  {
   "cell_type": "code",
   "execution_count": 40,
   "id": "0a6217bd",
   "metadata": {},
   "outputs": [
    {
     "data": {
      "text/plain": [
       "<function __main__.remove_gpe(doc)>"
      ]
     },
     "execution_count": 40,
     "metadata": {},
     "output_type": "execute_result"
    }
   ],
   "source": [
    "nlp.add_pipe(\"remove_gpe\")"
   ]
  },
  {
   "cell_type": "code",
   "execution_count": 41,
   "id": "05981bc8",
   "metadata": {},
   "outputs": [
    {
     "data": {
      "text/plain": [
       "{'summary': {'tok2vec': {'assigns': ['doc.tensor'],\n",
       "   'requires': [],\n",
       "   'scores': [],\n",
       "   'retokenizes': False},\n",
       "  'tagger': {'assigns': ['token.tag'],\n",
       "   'requires': [],\n",
       "   'scores': ['tag_acc'],\n",
       "   'retokenizes': False},\n",
       "  'parser': {'assigns': ['token.dep',\n",
       "    'token.head',\n",
       "    'token.is_sent_start',\n",
       "    'doc.sents'],\n",
       "   'requires': [],\n",
       "   'scores': ['dep_uas',\n",
       "    'dep_las',\n",
       "    'dep_las_per_type',\n",
       "    'sents_p',\n",
       "    'sents_r',\n",
       "    'sents_f'],\n",
       "   'retokenizes': False},\n",
       "  'attribute_ruler': {'assigns': [],\n",
       "   'requires': [],\n",
       "   'scores': [],\n",
       "   'retokenizes': False},\n",
       "  'lemmatizer': {'assigns': ['token.lemma'],\n",
       "   'requires': [],\n",
       "   'scores': ['lemma_acc'],\n",
       "   'retokenizes': False},\n",
       "  'ner': {'assigns': ['doc.ents', 'token.ent_iob', 'token.ent_type'],\n",
       "   'requires': [],\n",
       "   'scores': ['ents_f', 'ents_p', 'ents_r', 'ents_per_type'],\n",
       "   'retokenizes': False},\n",
       "  'remove_gpe': {'assigns': [],\n",
       "   'requires': [],\n",
       "   'scores': [],\n",
       "   'retokenizes': False}},\n",
       " 'problems': {'tok2vec': [],\n",
       "  'tagger': [],\n",
       "  'parser': [],\n",
       "  'attribute_ruler': [],\n",
       "  'lemmatizer': [],\n",
       "  'ner': [],\n",
       "  'remove_gpe': []},\n",
       " 'attrs': {'token.ent_iob': {'assigns': ['ner'], 'requires': []},\n",
       "  'token.is_sent_start': {'assigns': ['parser'], 'requires': []},\n",
       "  'doc.ents': {'assigns': ['ner'], 'requires': []},\n",
       "  'doc.sents': {'assigns': ['parser'], 'requires': []},\n",
       "  'token.ent_type': {'assigns': ['ner'], 'requires': []},\n",
       "  'token.lemma': {'assigns': ['lemmatizer'], 'requires': []},\n",
       "  'token.head': {'assigns': ['parser'], 'requires': []},\n",
       "  'token.tag': {'assigns': ['tagger'], 'requires': []},\n",
       "  'token.dep': {'assigns': ['parser'], 'requires': []},\n",
       "  'doc.tensor': {'assigns': ['tok2vec'], 'requires': []}}}"
      ]
     },
     "execution_count": 41,
     "metadata": {},
     "output_type": "execute_result"
    }
   ],
   "source": [
    "nlp.analyze_pipes()"
   ]
  },
  {
   "cell_type": "code",
   "execution_count": 42,
   "id": "52ebe49f",
   "metadata": {},
   "outputs": [],
   "source": [
    "doc = nlp(\"Britain is a place. Mary is a doctor.\") #now check if the GPE \n",
    "#has been remove.\n",
    "for ent in doc.ents:\n",
    "    print(ent.text,ent.label_) "
   ]
  },
  {
   "cell_type": "markdown",
   "id": "1ab80cf9",
   "metadata": {},
   "source": [
    "The code did not produce an output because the GPE has been removed with the custom component."
   ]
  },
  {
   "cell_type": "markdown",
   "id": "7b2b56e8",
   "metadata": {},
   "source": [
    "# Extraction of words using Regex in spacy"
   ]
  },
  {
   "cell_type": "code",
   "execution_count": 43,
   "id": "7eccd620",
   "metadata": {},
   "outputs": [],
   "source": [
    "import re"
   ]
  },
  {
   "cell_type": "code",
   "execution_count": 44,
   "id": "1d40a649",
   "metadata": {},
   "outputs": [],
   "source": [
    "text = \"Paul Newman was an American actor, but Paul Hollywood is a Britsh TV Host. The name Paul is quite common.\""
   ]
  },
  {
   "cell_type": "code",
   "execution_count": 45,
   "id": "14b6f964",
   "metadata": {},
   "outputs": [],
   "source": [
    "pattern = r\"Paul[A-Z]\\w+\""
   ]
  },
  {
   "cell_type": "code",
   "execution_count": 46,
   "id": "668a7b45",
   "metadata": {},
   "outputs": [],
   "source": [
    "matches = re.finditer(pattern,text)\n",
    "for match in matches:\n",
    "    print(match)"
   ]
  },
  {
   "cell_type": "code",
   "execution_count": null,
   "id": "5ea375c1",
   "metadata": {},
   "outputs": [],
   "source": []
  }
 ],
 "metadata": {
  "kernelspec": {
   "display_name": "nordpool",
   "language": "python",
   "name": "nordpool"
  },
  "language_info": {
   "codemirror_mode": {
    "name": "ipython",
    "version": 3
   },
   "file_extension": ".py",
   "mimetype": "text/x-python",
   "name": "python",
   "nbconvert_exporter": "python",
   "pygments_lexer": "ipython3",
   "version": "3.9.7"
  }
 },
 "nbformat": 4,
 "nbformat_minor": 5
}
