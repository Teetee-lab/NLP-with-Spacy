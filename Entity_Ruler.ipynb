{
 "cells": [
  {
   "cell_type": "markdown",
   "id": "89235c0c",
   "metadata": {},
   "source": [
    "# Entity Ruler"
   ]
  },
  {
   "cell_type": "code",
   "execution_count": 47,
   "id": "c33a4ac5",
   "metadata": {},
   "outputs": [],
   "source": [
    "import spacy\n",
    "nlp =spacy.load(\"en_core_web_sm\")"
   ]
  },
  {
   "cell_type": "code",
   "execution_count": 48,
   "id": "3f39dfee",
   "metadata": {},
   "outputs": [],
   "source": [
    "text = \"West Chestenfieldville was referenced in Mr.Deeds.\"\n",
    "doc =nlp(text)"
   ]
  },
  {
   "cell_type": "code",
   "execution_count": 49,
   "id": "af36d388",
   "metadata": {},
   "outputs": [
    {
     "name": "stdout",
     "output_type": "stream",
     "text": [
      "West Chestenfieldville GPE\n",
      "Deeds PERSON\n"
     ]
    }
   ],
   "source": [
    "for ent in doc.ents:\n",
    "    print(ent.text,ent.label_)"
   ]
  },
  {
   "cell_type": "code",
   "execution_count": 50,
   "id": "38b724b9",
   "metadata": {},
   "outputs": [],
   "source": [
    "ruler = nlp.add_pipe(\"entity_ruler\")"
   ]
  },
  {
   "cell_type": "code",
   "execution_count": 51,
   "id": "b7b362c9",
   "metadata": {},
   "outputs": [
    {
     "data": {
      "text/plain": [
       "{'summary': {'tok2vec': {'assigns': ['doc.tensor'],\n",
       "   'requires': [],\n",
       "   'scores': [],\n",
       "   'retokenizes': False},\n",
       "  'tagger': {'assigns': ['token.tag'],\n",
       "   'requires': [],\n",
       "   'scores': ['tag_acc'],\n",
       "   'retokenizes': False},\n",
       "  'parser': {'assigns': ['token.dep',\n",
       "    'token.head',\n",
       "    'token.is_sent_start',\n",
       "    'doc.sents'],\n",
       "   'requires': [],\n",
       "   'scores': ['dep_uas',\n",
       "    'dep_las',\n",
       "    'dep_las_per_type',\n",
       "    'sents_p',\n",
       "    'sents_r',\n",
       "    'sents_f'],\n",
       "   'retokenizes': False},\n",
       "  'attribute_ruler': {'assigns': [],\n",
       "   'requires': [],\n",
       "   'scores': [],\n",
       "   'retokenizes': False},\n",
       "  'lemmatizer': {'assigns': ['token.lemma'],\n",
       "   'requires': [],\n",
       "   'scores': ['lemma_acc'],\n",
       "   'retokenizes': False},\n",
       "  'ner': {'assigns': ['doc.ents', 'token.ent_iob', 'token.ent_type'],\n",
       "   'requires': [],\n",
       "   'scores': ['ents_f', 'ents_p', 'ents_r', 'ents_per_type'],\n",
       "   'retokenizes': False},\n",
       "  'entity_ruler': {'assigns': ['doc.ents', 'token.ent_type', 'token.ent_iob'],\n",
       "   'requires': [],\n",
       "   'scores': ['ents_f', 'ents_p', 'ents_r', 'ents_per_type'],\n",
       "   'retokenizes': False}},\n",
       " 'problems': {'tok2vec': [],\n",
       "  'tagger': [],\n",
       "  'parser': [],\n",
       "  'attribute_ruler': [],\n",
       "  'lemmatizer': [],\n",
       "  'ner': [],\n",
       "  'entity_ruler': []},\n",
       " 'attrs': {'token.ent_type': {'assigns': ['ner', 'entity_ruler'],\n",
       "   'requires': []},\n",
       "  'doc.sents': {'assigns': ['parser'], 'requires': []},\n",
       "  'token.tag': {'assigns': ['tagger'], 'requires': []},\n",
       "  'doc.ents': {'assigns': ['ner', 'entity_ruler'], 'requires': []},\n",
       "  'token.head': {'assigns': ['parser'], 'requires': []},\n",
       "  'token.dep': {'assigns': ['parser'], 'requires': []},\n",
       "  'doc.tensor': {'assigns': ['tok2vec'], 'requires': []},\n",
       "  'token.ent_iob': {'assigns': ['ner', 'entity_ruler'], 'requires': []},\n",
       "  'token.lemma': {'assigns': ['lemmatizer'], 'requires': []},\n",
       "  'token.is_sent_start': {'assigns': ['parser'], 'requires': []}}}"
      ]
     },
     "execution_count": 51,
     "metadata": {},
     "output_type": "execute_result"
    }
   ],
   "source": [
    "nlp.analyze_pipes()"
   ]
  },
  {
   "cell_type": "code",
   "execution_count": 52,
   "id": "a3946ec8",
   "metadata": {},
   "outputs": [],
   "source": [
    "patterns = [\n",
    "    {\"label\":\"GPE\",\"pattern\":\"West Chestenfieldville\"}\n",
    "    \n",
    "]"
   ]
  },
  {
   "cell_type": "code",
   "execution_count": 53,
   "id": "c064d0c9",
   "metadata": {},
   "outputs": [],
   "source": [
    "ruler.add_patterns(patterns)"
   ]
  },
  {
   "cell_type": "code",
   "execution_count": 54,
   "id": "61075236",
   "metadata": {},
   "outputs": [
    {
     "name": "stdout",
     "output_type": "stream",
     "text": [
      "West Chestenfieldville GPE\n",
      "Deeds PERSON\n"
     ]
    }
   ],
   "source": [
    "doc2=nlp(text)\n",
    "for ent in doc2.ents:\n",
    "    print(ent.text,ent.label_)"
   ]
  },
  {
   "cell_type": "code",
   "execution_count": 55,
   "id": "29e7e92d",
   "metadata": {},
   "outputs": [],
   "source": [
    "nlp2 =spacy.load(\"en_core_web_sm\")"
   ]
  },
  {
   "cell_type": "code",
   "execution_count": 56,
   "id": "9dd0c933",
   "metadata": {},
   "outputs": [],
   "source": [
    "ruler =nlp2.add_pipe(\"entity_ruler\",before=\"ner\")"
   ]
  },
  {
   "cell_type": "code",
   "execution_count": 57,
   "id": "4eb45900",
   "metadata": {},
   "outputs": [],
   "source": [
    "patterns = [\n",
    "    {\"label\":\"GPE\",\"pattern\":\"West Chestenfieldville\"},\n",
    "    {\"label\":\"FILM\",\"pattern\":\"Mr. Deeds\"}\n",
    "    \n",
    "]"
   ]
  },
  {
   "cell_type": "code",
   "execution_count": 58,
   "id": "35ae7cb5",
   "metadata": {},
   "outputs": [],
   "source": [
    "ruler.add_patterns(patterns)"
   ]
  },
  {
   "cell_type": "code",
   "execution_count": 59,
   "id": "670a5274",
   "metadata": {
    "scrolled": true
   },
   "outputs": [
    {
     "name": "stdout",
     "output_type": "stream",
     "text": [
      "West Chestenfieldville GPE\n",
      "Mr.Deeds FILM\n"
     ]
    }
   ],
   "source": [
    "doc3 =nlp2(text)\n",
    "for ent in doc3.ents:\n",
    "    print(ent.text,ent.label_)"
   ]
  },
  {
   "cell_type": "markdown",
   "id": "a65a9822",
   "metadata": {},
   "source": [
    "# Spacy Matcher"
   ]
  },
  {
   "cell_type": "code",
   "execution_count": 60,
   "id": "adf7e1c7",
   "metadata": {},
   "outputs": [],
   "source": [
    "nlp = spacy.load(\"en_core_web_sm\")"
   ]
  },
  {
   "cell_type": "code",
   "execution_count": 61,
   "id": "b5e802a1",
   "metadata": {},
   "outputs": [],
   "source": [
    "from spacy.matcher import Matcher"
   ]
  },
  {
   "cell_type": "code",
   "execution_count": 62,
   "id": "274c7d78",
   "metadata": {},
   "outputs": [],
   "source": [
    "matcher = Matcher(nlp.vocab)\n",
    "pattern = [{\"LIKE_EMAIL\": True}]\n",
    "matcher.add(\"EMAIL_ADDRESS\",[pattern])"
   ]
  },
  {
   "cell_type": "code",
   "execution_count": 63,
   "id": "380e693c",
   "metadata": {},
   "outputs": [],
   "source": [
    "doc = nlp(\"This is an email address: wmattingly@aol.com\")\n",
    "matches = matcher(doc)"
   ]
  },
  {
   "cell_type": "code",
   "execution_count": 64,
   "id": "7552bb09",
   "metadata": {},
   "outputs": [
    {
     "name": "stdout",
     "output_type": "stream",
     "text": [
      "[(16571425990740197027, 6, 7)]\n"
     ]
    }
   ],
   "source": [
    "print(matches)"
   ]
  },
  {
   "cell_type": "code",
   "execution_count": 65,
   "id": "35d7eb38",
   "metadata": {},
   "outputs": [
    {
     "name": "stdout",
     "output_type": "stream",
     "text": [
      "EMAIL_ADDRESS\n"
     ]
    }
   ],
   "source": [
    "print(nlp.vocab[matches[0][0]].text)"
   ]
  },
  {
   "cell_type": "code",
   "execution_count": 66,
   "id": "4fcbc15f",
   "metadata": {},
   "outputs": [],
   "source": [
    "with open(\"data/wiki_mlk.txt\",\"r\")as f:\n",
    "    text = f.read()"
   ]
  },
  {
   "cell_type": "code",
   "execution_count": 67,
   "id": "9a6b6276",
   "metadata": {},
   "outputs": [
    {
     "name": "stdout",
     "output_type": "stream",
     "text": [
      "Martin Luther King Jr. (born Michael King Jr.; January 15, 1929 – April 4, 1968) was an American Baptist minister and activist who became the most visible spokesman and leader in the American civil rights movement from 1955 until his assassination in 1968. King advanced civil rights through nonviolence and civil disobedience, inspired by his Christian beliefs and the nonviolent activism of Mahatma Gandhi. He was the son of early civil rights activist and minister Martin Luther King Sr.\n",
      "\n",
      "King participated in and led marches for blacks' right to vote, desegregation, labor rights, and other basic civil rights.[1] King led the 1955 Montgomery bus boycott and later became the first president of the Southern Christian Leadership Conference (SCLC). As president of the SCLC, he led the unsuccessful Albany Movement in Albany, Georgia, and helped organize some of the nonviolent 1963 protests in Birmingham, Alabama. King helped organize the 1963 March on Washington, where he delivered his famous \"I Have a Dream\" speech on the steps of the Lincoln Memorial.\n",
      "\n",
      "The SCLC put into practice the tactics of nonviolent protest with some success by strategically choosing the methods and places in which protests were carried out. There were several dramatic stand-offs with segregationist authorities, who sometimes turned violent.[2] Federal Bureau of Investigation (FBI) Director J. Edgar Hoover considered King a radical and made him an object of the FBI's COINTELPRO from 1963, forward. FBI agents investigated him for possible communist ties, recorded his extramarital affairs and reported on them to government officials, and, in 1964, mailed King a threatening anonymous letter, which he interpreted as an attempt to make him commit suicide.[3]\n",
      "\n",
      "On October 14, 1964, King won the Nobel Peace Prize for combating racial inequality through nonviolent resistance. In 1965, he helped organize two of the three Selma to Montgomery marches. In his final years, he expanded his focus to include opposition towards poverty, capitalism, and the Vietnam War.\n",
      "\n",
      "In 1968, King was planning a national occupation of Washington, D.C., to be called the Poor People's Campaign, when he was assassinated on April 4 in Memphis, Tennessee. His death was followed by riots in many U.S. cities. Allegations that James Earl Ray, the man convicted of killing King, had been framed or acted in concert with government agents persisted for decades after the shooting. King was posthumously awarded the Presidential Medal of Freedom in 1977 and the Congressional Gold Medal in 2003. Martin Luther King Jr. Day was established as a holiday in cities and states throughout the United States beginning in 1971; the holiday was enacted at the federal level by legislation signed by President Ronald Reagan in 1986. Hundreds of streets in the U.S. have been renamed in his honor, and the most populous county in Washington State was rededicated for him. The Martin Luther King Jr. Memorial on the National Mall in Washington, D.C., was dedicated in 2011.\n"
     ]
    }
   ],
   "source": [
    "print(text)"
   ]
  },
  {
   "cell_type": "code",
   "execution_count": 68,
   "id": "64755360",
   "metadata": {},
   "outputs": [],
   "source": [
    "nlp = spacy.load(\"en_core_web_sm\")"
   ]
  },
  {
   "cell_type": "code",
   "execution_count": 69,
   "id": "811378ab",
   "metadata": {},
   "outputs": [
    {
     "name": "stdout",
     "output_type": "stream",
     "text": [
      "99\n",
      "(451313080118390996, 0, 1) Martin\n",
      "(451313080118390996, 1, 2) Luther\n",
      "(451313080118390996, 2, 3) King\n",
      "(451313080118390996, 3, 4) Jr.\n",
      "(451313080118390996, 6, 7) Michael\n",
      "(451313080118390996, 7, 8) King\n",
      "(451313080118390996, 8, 9) Jr.\n",
      "(451313080118390996, 10, 11) January\n",
      "(451313080118390996, 15, 16) April\n",
      "(451313080118390996, 23, 24) Baptist\n"
     ]
    }
   ],
   "source": [
    "matcher =Matcher(nlp.vocab)\n",
    "pattern = [{\"POS\":\"PROPN\"}]\n",
    "matcher.add(\"PROPER_NOUN\",[pattern])\n",
    "doc =nlp(text)\n",
    "matches =matcher(doc)\n",
    "print(len(matches))\n",
    "for match in matches[:10]:\n",
    "    print(match,doc[match[1]:match[2]])"
   ]
  },
  {
   "cell_type": "code",
   "execution_count": 70,
   "id": "39dda6c6",
   "metadata": {},
   "outputs": [
    {
     "name": "stdout",
     "output_type": "stream",
     "text": [
      "168\n",
      "(451313080118390996, 0, 1) Martin\n",
      "(451313080118390996, 0, 2) Martin Luther\n",
      "(451313080118390996, 1, 2) Luther\n",
      "(451313080118390996, 0, 3) Martin Luther King\n",
      "(451313080118390996, 1, 3) Luther King\n",
      "(451313080118390996, 2, 3) King\n",
      "(451313080118390996, 0, 4) Martin Luther King Jr.\n",
      "(451313080118390996, 1, 4) Luther King Jr.\n",
      "(451313080118390996, 2, 4) King Jr.\n",
      "(451313080118390996, 3, 4) Jr.\n"
     ]
    }
   ],
   "source": [
    "matcher =Matcher(nlp.vocab)\n",
    "pattern = [{\"POS\":\"PROPN\",\"OP\":\"+\"}]#gives the combination of tokens that matches with the proper noun\n",
    "matcher.add(\"PROPER_NOUN\",[pattern])\n",
    "doc =nlp(text)\n",
    "matches =matcher(doc)\n",
    "print(len(matches))\n",
    "for match in matches[:10]:\n",
    "    print(match,doc[match[1]:match[2]])"
   ]
  },
  {
   "cell_type": "code",
   "execution_count": 71,
   "id": "496ec388",
   "metadata": {},
   "outputs": [
    {
     "name": "stdout",
     "output_type": "stream",
     "text": [
      "59\n",
      "(451313080118390996, 469, 474) Martin Luther King Jr. Day\n",
      "(451313080118390996, 536, 541) Martin Luther King Jr. Memorial\n",
      "(451313080118390996, 0, 4) Martin Luther King Jr.\n",
      "(451313080118390996, 83, 87) Martin Luther King Sr\n",
      "(451313080118390996, 128, 132) Southern Christian Leadership Conference\n",
      "(451313080118390996, 247, 251) Director J. Edgar Hoover\n",
      "(451313080118390996, 6, 9) Michael King Jr.\n",
      "(451313080118390996, 325, 328) Nobel Peace Prize\n",
      "(451313080118390996, 422, 425) James Earl Ray\n",
      "(451313080118390996, 463, 466) Congressional Gold Medal\n"
     ]
    }
   ],
   "source": [
    "matcher =Matcher(nlp.vocab)\n",
    "pattern = [{\"POS\":\"PROPN\",\"OP\":\"+\"}]#gives the combination of tokens that matches with the proper noun\n",
    "matcher.add(\"PROPER_NOUN\",[pattern],greedy =\"LONGEST\")#gives the matches from the shortest to longest\n",
    "doc =nlp(text)\n",
    "matches =matcher(doc)\n",
    "print(len(matches))\n",
    "for match in matches[:10]:\n",
    "    print(match,doc[match[1]:match[2]])"
   ]
  },
  {
   "cell_type": "code",
   "execution_count": 72,
   "id": "563d4139",
   "metadata": {},
   "outputs": [
    {
     "name": "stdout",
     "output_type": "stream",
     "text": [
      "59\n",
      "(451313080118390996, 0, 4) Martin Luther King Jr.\n",
      "(451313080118390996, 6, 9) Michael King Jr.\n",
      "(451313080118390996, 10, 11) January\n",
      "(451313080118390996, 15, 16) April\n",
      "(451313080118390996, 23, 24) Baptist\n",
      "(451313080118390996, 49, 50) King\n",
      "(451313080118390996, 69, 71) Mahatma Gandhi\n",
      "(451313080118390996, 83, 87) Martin Luther King Sr\n",
      "(451313080118390996, 89, 90) King\n",
      "(451313080118390996, 113, 114) King\n"
     ]
    }
   ],
   "source": [
    "matcher =Matcher(nlp.vocab)\n",
    "pattern = [{\"POS\":\"PROPN\",\"OP\":\"+\"}]#gives the combination of tokens that matches with the proper noun\n",
    "matcher.add(\"PROPER_NOUN\",[pattern],greedy =\"LONGEST\")#gives the matches from the shortest to longest\n",
    "doc =nlp(text)\n",
    "matches =matcher(doc)\n",
    "matches.sort(key=lambda x: x[1])#sort the tokens sequentially\n",
    "print(len(matches))\n",
    "for match in matches[:10]:\n",
    "    print(match,doc[match[1]:match[2]])"
   ]
  },
  {
   "cell_type": "code",
   "execution_count": 73,
   "id": "e2dcb4c0",
   "metadata": {},
   "outputs": [
    {
     "name": "stdout",
     "output_type": "stream",
     "text": [
      "6\n",
      "(451313080118390996, 49, 51) King advanced\n",
      "(451313080118390996, 89, 91) King participated\n",
      "(451313080118390996, 113, 115) King led\n",
      "(451313080118390996, 247, 252) Director J. Edgar Hoover considered\n",
      "(451313080118390996, 322, 324) King won\n",
      "(451313080118390996, 485, 488) United States beginning\n"
     ]
    }
   ],
   "source": [
    "matcher =Matcher(nlp.vocab)\n",
    "pattern = [{\"POS\":\"PROPN\",\"OP\":\"+\"},{\"POS\":\"VERB\"}]#gives the combination of tokens that \n",
    "#matches with the proper noun and a verb\n",
    "matcher.add(\"PROPER_NOUN\",[pattern],greedy =\"LONGEST\")#gives the matches from the shortest to longest\n",
    "doc =nlp(text)\n",
    "matches =matcher(doc)\n",
    "matches.sort(key=lambda x: x[1])#sort the tokens sequentially\n",
    "print(len(matches))\n",
    "for match in matches[:10]:\n",
    "    print(match,doc[match[1]:match[2]])"
   ]
  },
  {
   "cell_type": "code",
   "execution_count": 74,
   "id": "dc2699c7",
   "metadata": {},
   "outputs": [],
   "source": [
    "import json\n",
    "with open(\"data/alice.json\",\"r\")as f:\n",
    "    data = json.load(f)"
   ]
  },
  {
   "cell_type": "code",
   "execution_count": 75,
   "id": "f700b154",
   "metadata": {
    "scrolled": true
   },
   "outputs": [
    {
     "name": "stdout",
     "output_type": "stream",
     "text": [
      "Alice was beginning to get very tired of sitting by her sister on the bank, and of having nothing to do: once or twice she had peeped into the book her sister was reading, but it had no pictures or conversations in it, `and what is the use of a book,' thought Alice `without pictures or conversation?'\n"
     ]
    }
   ],
   "source": [
    "text =data[0][2][0]\n",
    "print(text)"
   ]
  },
  {
   "cell_type": "code",
   "execution_count": 76,
   "id": "4fbfee49",
   "metadata": {},
   "outputs": [
    {
     "name": "stdout",
     "output_type": "stream",
     "text": [
      "Alice was beginning to get very tired of sitting by her sister on the bank, and of having nothing to do: once or twice she had peeped into the book her sister was reading, but it had no pictures or conversations in it, 'and what is the use of a book,' thought Alice 'without pictures or conversation?'\n"
     ]
    }
   ],
   "source": [
    "text = text.replace(\"`\",\"'\")\n",
    "print(text)"
   ]
  },
  {
   "cell_type": "code",
   "execution_count": 77,
   "id": "a054a25d",
   "metadata": {},
   "outputs": [
    {
     "name": "stdout",
     "output_type": "stream",
     "text": [
      "2\n",
      "(451313080118390996, 47, 58) 'and what is the use of a book,'\n",
      "(451313080118390996, 60, 67) 'without pictures or conversation?'\n"
     ]
    }
   ],
   "source": [
    "#extract word with punctuation marks\n",
    "matcher =Matcher(nlp.vocab)\n",
    "pattern = [{\"ORTH\":\"'\"},\n",
    "           {\"IS_ALPHA\":True,\"OP\": \"+\"},\n",
    "           {\"IS_PUNCT\":True,\"OP\": \"*\"},\n",
    "           {\"ORTH\":\"'\"}]\n",
    "matcher.add(\"PROPER_NOUN\",[pattern],greedy =\"LONGEST\")\n",
    "doc =nlp(text)\n",
    "matches =matcher(doc)\n",
    "matches.sort(key=lambda x: x[1])#sort the tokens sequentially\n",
    "print(len(matches))\n",
    "for match in matches[:10]:\n",
    "    print(match,doc[match[1]:match[2]])"
   ]
  },
  {
   "cell_type": "code",
   "execution_count": 78,
   "id": "47bfae1a",
   "metadata": {},
   "outputs": [
    {
     "name": "stdout",
     "output_type": "stream",
     "text": [
      "1\n",
      "(451313080118390996, 47, 67) 'and what is the use of a book,' thought Alice 'without pictures or conversation?'\n"
     ]
    }
   ],
   "source": [
    "speak_lemmas =[\"think\",\"say\"]\n",
    "matcher =Matcher(nlp.vocab)\n",
    "pattern = [{\"ORTH\":\"'\"},\n",
    "           {\"IS_ALPHA\":True,\"OP\": \"+\"},\n",
    "           {\"IS_PUNCT\":True,\"OP\": \"*\"},\n",
    "           {\"ORTH\":\"'\"},\n",
    "          {\"POS\":\"VERB\", \"LEMMA\":{\"IN\":speak_lemmas}},\n",
    "          {\"POS\": \"PROPN\",\"OP\":\"+\"},\n",
    "          {\"ORTH\":\"'\"},\n",
    "           {\"IS_ALPHA\":True,\"OP\": \"+\"},\n",
    "           {\"IS_PUNCT\":True,\"OP\": \"*\"},\n",
    "           {\"ORTH\":\"'\"}]\n",
    "matcher.add(\"PROPER_NOUN\",[pattern],greedy =\"LONGEST\")\n",
    "doc =nlp(text)\n",
    "matches =matcher(doc)\n",
    "matches.sort(key=lambda x: x[1])#sort the tokens sequentially\n",
    "print(len(matches))\n",
    "for match in matches[:10]:\n",
    "    print(match,doc[match[1]:match[2]])"
   ]
  },
  {
   "cell_type": "code",
   "execution_count": 80,
   "id": "04d7ff5b",
   "metadata": {},
   "outputs": [
    {
     "name": "stdout",
     "output_type": "stream",
     "text": [
      "1\n",
      "(451313080118390996, 47, 67) 'and what is the use of a book,' thought Alice 'without pictures or conversation?'\n",
      "0\n",
      "0\n",
      "0\n",
      "0\n",
      "0\n",
      "0\n",
      "0\n",
      "0\n",
      "0\n",
      "0\n",
      "0\n",
      "0\n",
      "0\n",
      "0\n",
      "0\n",
      "0\n"
     ]
    }
   ],
   "source": [
    "for text in data[0][2]:\n",
    "    text = text.replace(\"`\",\"'\")\n",
    "    doc =nlp(text)\n",
    "    matches =matcher(doc)\n",
    "    print(len(matches))\n",
    "    matches.sort(key = lambda x: x[1])\n",
    "    for match in matches [:10]:\n",
    "        print(match,doc[match[1]:match[2]])"
   ]
  },
  {
   "cell_type": "code",
   "execution_count": 81,
   "id": "a4ff95ad",
   "metadata": {},
   "outputs": [
    {
     "name": "stdout",
     "output_type": "stream",
     "text": [
      "1\n",
      "(3232560085755078826, 47, 67) 'and what is the use of a book,' thought Alice 'without pictures or conversation?'\n",
      "0\n",
      "0\n",
      "0\n",
      "0\n",
      "0\n",
      "1\n",
      "(3232560085755078826, 0, 6) 'Well!' thought Alice\n",
      "0\n",
      "0\n",
      "0\n",
      "0\n",
      "0\n",
      "0\n",
      "0\n",
      "1\n",
      "(3232560085755078826, 57, 68) 'which certainly was not here before,' said Alice\n",
      "0\n",
      "0\n"
     ]
    }
   ],
   "source": [
    "speak_lemmas = [\"think\", \"say\"]\n",
    "text = data[0][2][0].replace( \"`\", \"'\")\n",
    "matcher = Matcher(nlp.vocab)\n",
    "pattern1 = [{'ORTH': \"'\"}, {'IS_ALPHA': True, \"OP\": \"+\"}, {'IS_PUNCT': True, \"OP\":\n",
    "\"*\"}, {'ORTH': \"'\"}, {\"POS\": \"VERB\", \"LEMMA\": {\"IN\": speak_lemmas}}, {\"POS\": \"PROPN\",\n",
    "\"OP\": \"+\"}, {'ORTH': \"'\"}, {'IS_ALPHA': True, \"OP\": \"+\"}, {'IS_PUNCT': True, \"OP\":\n",
    "\"*\"}, {'ORTH': \"'\"}]\n",
    "pattern2 = [{'ORTH': \"'\"}, {'IS_ALPHA': True, \"OP\": \"+\"}, {'IS_PUNCT': True, \"OP\":\n",
    "\"*\"}, {'ORTH': \"'\"}, {\"POS\": \"VERB\", \"LEMMA\": {\"IN\": speak_lemmas}}, {\"POS\": \"PROPN\",\n",
    "\"OP\": \"+\"}]\n",
    "pattern3 = [{\"POS\": \"PROPN\", \"OP\": \"+\"},{\"POS\": \"VERB\", \"LEMMA\": {\"IN\": speak_lemmas}},\n",
    "{'ORTH': \"'\"}, {'IS_ALPHA': True, \"OP\": \"+\"}, {'IS_PUNCT': True, \"OP\": \"*\"}, {'ORTH':\n",
    "\"'\"}]\n",
    "matcher.add(\"PROPER_NOUNS\", [pattern1, pattern2, pattern3], greedy='LONGEST')\n",
    "for text in data[0][2]:\n",
    " text = text.replace(\"`\", \"'\")\n",
    " doc = nlp(text)\n",
    " matches = matcher(doc)\n",
    " matches.sort(key = lambda x: x[1])\n",
    " print (len(matches))\n",
    " for match in matches[:10]:\n",
    "     print (match, doc[match[1]:match[2]])"
   ]
  },
  {
   "cell_type": "code",
   "execution_count": null,
   "id": "f0a29a01",
   "metadata": {},
   "outputs": [],
   "source": []
  }
 ],
 "metadata": {
  "kernelspec": {
   "display_name": "nordpool",
   "language": "python",
   "name": "nordpool"
  },
  "language_info": {
   "codemirror_mode": {
    "name": "ipython",
    "version": 3
   },
   "file_extension": ".py",
   "mimetype": "text/x-python",
   "name": "python",
   "nbconvert_exporter": "python",
   "pygments_lexer": "ipython3",
   "version": "3.9.7"
  }
 },
 "nbformat": 4,
 "nbformat_minor": 5
}
