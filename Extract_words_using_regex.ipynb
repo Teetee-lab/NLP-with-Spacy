{
 "cells": [
  {
   "cell_type": "markdown",
   "id": "0a204870",
   "metadata": {},
   "source": [
    "# Extraction of words using Regex in spacy"
   ]
  },
  {
   "cell_type": "code",
   "execution_count": 13,
   "id": "6c4dbbd1",
   "metadata": {},
   "outputs": [],
   "source": [
    "import re"
   ]
  },
  {
   "cell_type": "code",
   "execution_count": 21,
   "id": "37e2c318",
   "metadata": {},
   "outputs": [
    {
     "data": {
      "text/plain": [
       "'Paul Newman was an American actor, but Paul Hollywood is a Britsh TV Host. The name Paul is quite common.'"
      ]
     },
     "execution_count": 21,
     "metadata": {},
     "output_type": "execute_result"
    }
   ],
   "source": [
    "text = \"Paul Newman was an American actor, but Paul Hollywood is a Britsh TV Host. The name Paul is quite common.\"\n",
    "text"
   ]
  },
  {
   "cell_type": "code",
   "execution_count": 22,
   "id": "ebb51071",
   "metadata": {},
   "outputs": [],
   "source": [
    "pattern = r\"Paul[A-Z]\\w+\""
   ]
  },
  {
   "cell_type": "code",
   "execution_count": 23,
   "id": "fe50cb8f",
   "metadata": {},
   "outputs": [],
   "source": [
    "matches = re.finditer(pattern,text)\n",
    "for match in matches:\n",
    "    print(match)"
   ]
  },
  {
   "cell_type": "code",
   "execution_count": 24,
   "id": "4c6873b3",
   "metadata": {},
   "outputs": [],
   "source": [
    "import spacy\n",
    "from spacy.tokens import span"
   ]
  },
  {
   "cell_type": "code",
   "execution_count": 27,
   "id": "d21ca215",
   "metadata": {},
   "outputs": [],
   "source": [
    "nlp =spacy.blank(\"en\")\n",
    "doc = nlp(text)\n",
    "original_ents =list(doc.ents)\n",
    "mwt_ents =[]\n",
    "for match in re.finditer(pattern,doc.text):\n",
    "    start,end = match.span()\n",
    "    span = doc.char_span(start,end)\n",
    "    if span is not None:\n",
    "        mwt_ents.append((span.start,span.end,span.text))\n",
    "for ent in mwt_ents:\n",
    "    start,end,name = ent\n",
    "    per_ent =span(doc,start,end,label =\"CINEMA\")\n",
    "    original_ents.append(per_ent)\n",
    "    doc.ents = original_ents\n",
    "    retun(doc)"
   ]
  },
  {
   "cell_type": "code",
   "execution_count": 28,
   "id": "9f6be1cf",
   "metadata": {},
   "outputs": [
    {
     "name": "stdout",
     "output_type": "stream",
     "text": [
      "[]\n"
     ]
    }
   ],
   "source": [
    "print(mwt_ents)"
   ]
  },
  {
   "cell_type": "code",
   "execution_count": null,
   "id": "a774f644",
   "metadata": {},
   "outputs": [],
   "source": []
  }
 ],
 "metadata": {
  "kernelspec": {
   "display_name": "nordpool",
   "language": "python",
   "name": "nordpool"
  },
  "language_info": {
   "codemirror_mode": {
    "name": "ipython",
    "version": 3
   },
   "file_extension": ".py",
   "mimetype": "text/x-python",
   "name": "python",
   "nbconvert_exporter": "python",
   "pygments_lexer": "ipython3",
   "version": "3.9.7"
  }
 },
 "nbformat": 4,
 "nbformat_minor": 5
}
